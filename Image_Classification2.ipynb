{
 "cells": [
  {
   "cell_type": "code",
   "execution_count": 8,
   "metadata": {},
   "outputs": [
    {
     "name": "stdout",
     "output_type": "stream",
     "text": [
      "True\n",
      "cuda:0\n"
     ]
    }
   ],
   "source": [
    "#Date:  April 14, 2021\n",
    "#Name:  Peida Han\n",
    "#ID:    2449620842\n",
    "#Email: peidahan@usc.edu\n",
    "import torch\n",
    "import torch.nn as nn\n",
    "import torch.nn.functional as F\n",
    "import torch.optim as optim\n",
    "\n",
    "import torchvision as tv\n",
    "import torchvision.transforms as transforms\n",
    "import time\n",
    "import matplotlib.pyplot as plt\n",
    "import numpy as np\n",
    "\n",
    "print(torch.cuda.is_available())\n",
    "if torch.cuda.is_available():  \n",
    "    dev = \"cuda:0\" \n",
    "else:  \n",
    "    dev = \"cpu\"  \n",
    "device = torch.device(dev)\n",
    "print(device)"
   ]
  },
  {
   "cell_type": "code",
   "execution_count": 9,
   "metadata": {},
   "outputs": [],
   "source": [
    "def load_data(train_batch_size,test_batch_size):\n",
    "    transform=transforms.Compose([\n",
    "        transforms.ToTensor(),\n",
    "        transforms.Normalize((0.1307,),(0.3081,))])\n",
    "    \n",
    "    train_set=tv.datasets.MNIST(\n",
    "        root='./data/',\n",
    "        train=True,\n",
    "        download=True,\n",
    "        transform=transform\n",
    "    )\n",
    "    train_loader=torch.utils.data.DataLoader(\n",
    "        train_set,\n",
    "        batch_size=train_batch_size,\n",
    "        shuffle=True,\n",
    "        num_workers=2\n",
    "    )\n",
    "    \n",
    "    test_set=tv.datasets.MNIST(\n",
    "        root='./data/',\n",
    "        train=False,\n",
    "        download=True,\n",
    "        transform=transform\n",
    "    )\n",
    "    test_loader=torch.utils.data.DataLoader(\n",
    "        test_set,\n",
    "        batch_size=test_batch_size,\n",
    "        shuffle=False,\n",
    "        num_workers=2\n",
    "    )\n",
    "    print('Data loaded')\n",
    "    return train_loader,test_loader\n",
    "\n"
   ]
  },
  {
   "cell_type": "code",
   "execution_count": 10,
   "metadata": {},
   "outputs": [],
   "source": [
    "def predict(device,cnn,testloader):\n",
    "    correct=0\n",
    "    total=0\n",
    "    with torch.no_grad():\n",
    "        for i, data in enumerate(testloader):\n",
    "                inputs,labels=data\n",
    "                inputs=inputs.to(device)\n",
    "                labels=labels.to(device)\n",
    "                labels=labels.float()\n",
    "                inputs=torch.negative(inputs)\n",
    "\n",
    "                #batch_size*10\n",
    "                outputs=cnn(inputs)\n",
    "                predicted = torch.argmax(outputs, 1)\n",
    "\n",
    "                corr = (predicted == labels)\n",
    "                for i in range(labels.size(0)):\n",
    "                    if corr[i].item():\n",
    "                        correct=correct+1\n",
    "                total+=labels.size(0)\n",
    "    return correct/total      \n",
    "    "
   ]
  },
  {
   "cell_type": "code",
   "execution_count": 11,
   "metadata": {},
   "outputs": [],
   "source": [
    "class CNN(nn.Module):\n",
    "\n",
    "    def __init__(self,channel,size):\n",
    "        super(CNN, self).__init__()\n",
    "        # 1 input image channel, 6 output channels, 5x5 square convolution\n",
    "        self.size=size\n",
    "        # 5*5 input receptive field\n",
    "        self.conv1 = nn.Conv2d(channel, 6, 5)\n",
    "        self.conv2 = nn.Conv2d(6, 16, 5)\n",
    "        self.fc1 = nn.Linear(16 * 5 * 5, 120)  \n",
    "        self.fc2 = nn.Linear(120, 84)\n",
    "        self.fc3 = nn.Linear(84, 10)\n",
    "\n",
    "    def forward(self, x):\n",
    "        # Max pooling over a (2, 2) window\n",
    "        if self.size==28:\n",
    "            x=F.pad(x,(2,2,2,2))\n",
    "        x = F.max_pool2d(F.relu(self.conv1(x)), (2, 2))\n",
    "        x = F.max_pool2d(F.relu(self.conv2(x)), 2)\n",
    "        x = x.view(-1, self.num_flat_features(x))\n",
    "        x = F.relu(self.fc1(x))\n",
    "        x = F.relu(self.fc2(x))\n",
    "        x = self.fc3(x)\n",
    "        return x\n",
    "\n",
    "    def num_flat_features(self, x):\n",
    "        size = x.size()[1:]  \n",
    "        num_features = 1\n",
    "        for s in size:\n",
    "            num_features *= s\n",
    "        return num_features\n"
   ]
  },
  {
   "cell_type": "code",
   "execution_count": 12,
   "metadata": {
    "scrolled": true
   },
   "outputs": [
    {
     "name": "stdout",
     "output_type": "stream",
     "text": [
      "Data loaded\n",
      "test accuary: 0.372\n",
      "total time used: 0.05013828277587891\n"
     ]
    }
   ],
   "source": [
    "#negative digit test set\n",
    "def main(device):\n",
    "    train_batch_size=10\n",
    "    test_batch_size=1000\n",
    "    trainloader,testloader=load_data(train_batch_size,test_batch_size)\n",
    "    epochs=30\n",
    "\n",
    "    PATH='state_dict_model.pt'\n",
    "    cnn = CNN(channel=1,size=28)\n",
    "    checkpoint = torch.load(PATH)\n",
    "    cnn.load_state_dict(checkpoint['model_state_dict'])\n",
    "    cnn=cnn.to(device)\n",
    "    test_a=predict(device,cnn,testloader)\n",
    "    print('test accuary:',test_a)\n",
    "\n",
    "    return test_a\n",
    "        \n",
    "\n",
    "start_time=time.time()\n",
    "test_acc=main(device)\n",
    "end_time=(time.time()-start_time)/60\n",
    "print('total time used:',end_time)\n",
    "\n",
    "    \n"
   ]
  },
  {
   "cell_type": "code",
   "execution_count": 13,
   "metadata": {},
   "outputs": [
    {
     "name": "stdout",
     "output_type": "stream",
     "text": [
      "conv1.weight \t torch.Size([6, 1, 5, 5])\n",
      "conv1.bias \t torch.Size([6])\n",
      "conv2.weight \t torch.Size([16, 6, 5, 5])\n",
      "conv2.bias \t torch.Size([16])\n",
      "fc1.weight \t torch.Size([120, 400])\n",
      "fc1.bias \t torch.Size([120])\n",
      "fc2.weight \t torch.Size([84, 120])\n",
      "fc2.bias \t torch.Size([84])\n",
      "fc3.weight \t torch.Size([10, 84])\n",
      "fc3.bias \t torch.Size([10])\n"
     ]
    }
   ],
   "source": [
    "cnn = CNN(channel=1,size=28)\n",
    "for param_tensor in cnn.state_dict():\n",
    "    print(param_tensor, \"\\t\", cnn.state_dict()[param_tensor].size())\n"
   ]
  },
  {
   "cell_type": "code",
   "execution_count": 40,
   "metadata": {
    "scrolled": false
   },
   "outputs": [
    {
     "name": "stdout",
     "output_type": "stream",
     "text": [
      "Data loaded\n"
     ]
    },
    {
     "data": {
      "text/plain": [
       "Text(0.5, 1.0, 'historgram of reversed digit image')"
      ]
     },
     "execution_count": 40,
     "metadata": {},
     "output_type": "execute_result"
    },
    {
     "data": {
      "image/png": "[encoded data removed]",
      "text/plain": [
       "<Figure size 432x288 with 1 Axes>"
      ]
     },
     "metadata": {
      "needs_background": "light"
     },
     "output_type": "display_data"
    },
    {
     "data": {
      "image/png": "[encoded data removed]",
      "text/plain": [
       "<Figure size 432x288 with 1 Axes>"
      ]
     },
     "metadata": {
      "needs_background": "light"
     },
     "output_type": "display_data"
    },
    {
     "data": {
      "image/png": "[encoded data removed]",
      "text/plain": [
       "<Figure size 432x288 with 1 Axes>"
      ]
     },
     "metadata": {
      "needs_background": "light"
     },
     "output_type": "display_data"
    },
    {
     "data": {
      "image/png": "[encoded data removed]",
      "text/plain": [
       "<Figure size 432x288 with 1 Axes>"
      ]
     },
     "metadata": {
      "needs_background": "light"
     },
     "output_type": "display_data"
    }
   ],
   "source": [
    "train_batch_size=10\n",
    "test_batch_size=1000\n",
    "trainloader,testloader=load_data(train_batch_size,test_batch_size)\n",
    "sample = iter(testloader)\n",
    "data,label=next(sample)\n",
    "data1=np.squeeze(data[0])\n",
    "\n",
    "plt.figure()\n",
    "plt.imshow(data1,cmap='gray')\n",
    "plt.title('original digit image')\n",
    "plt.figure()\n",
    "plt.hist(data1)\n",
    "plt.title('historgram of original digit image')\n",
    "\n",
    "data=torch.negative(data)\n",
    "data2=np.squeeze(data[0])\n",
    "plt.figure()\n",
    "plt.imshow(data2,cmap='gray')\n",
    "plt.title('Reversed digit image')\n",
    "plt.figure()\n",
    "plt.hist(data2)\n",
    "plt.title('historgram of reversed digit image')\n"
   ]
  },
  {
   "cell_type": "code",
   "execution_count": 7,
   "metadata": {},
   "outputs": [],
   "source": [
    "ReLU=[i-10 if i-10>0 else 0 for i in range(20)]\n",
    "LeakyReLU=[i-10 if i-10>0 else 0.1*(i-10) for i in range(20)]\n",
    "ELU=[i-10 if i-10>0 else 1*(np.exp(i-10)-1) for i in range(20)]\n",
    "common=[i for i in range(10)]\n",
    "x=[i-10 for i in range(20)]\n",
    "zeros=[0 for i in range(20)]"
   ]
  },
  {
   "cell_type": "code",
   "execution_count": 8,
   "metadata": {},
   "outputs": [
    {
     "data": {
      "text/plain": [
       "Text(0.5, 1.0, 'Activation function comparsion graph')"
      ]
     },
     "execution_count": 8,
     "metadata": {},
     "output_type": "execute_result"
    },
    {
     "data": {
      "image/png": "[encoded data removed]",
      "text/plain": [
       "<Figure size 432x288 with 1 Axes>"
      ]
     },
     "metadata": {
      "needs_background": "light"
     },
     "output_type": "display_data"
    }
   ],
   "source": [
    "plt.plot(zeros,x,color='black')\n",
    "plt.plot(x,zeros,color='black')\n",
    "\n",
    "plt.plot(x,ReLU,label='ReLU')\n",
    "\n",
    "plt.plot(x,LeakyReLU,label='LeakyReLU')\n",
    "plt.plot(x,ELU,label='ELU')\n",
    "plt.plot(common,common,label='CommonPart',color='black')\n",
    "\n",
    "plt.xlim((-10,10))\n",
    "plt.ylim((-10,10))\n",
    "plt.legend()\n",
    "plt.xlabel('Input x')\n",
    "plt.ylabel('Activation output')\n",
    "plt.title('Activation function comparsion graph')"
   ]
  }
 ],
 "metadata": {
  "kernelspec": {
   "display_name": "Python 3",
   "language": "python",
   "name": "python3"
  },
  "language_info": {
   "codemirror_mode": {
    "name": "ipython",
    "version": 3
   },
   "file_extension": ".py",
   "mimetype": "text/x-python",
   "name": "python",
   "nbconvert_exporter": "python",
   "pygments_lexer": "ipython3",
   "version": "3.8.3"
  }
 },
 "nbformat": 4,
 "nbformat_minor": 5
}
